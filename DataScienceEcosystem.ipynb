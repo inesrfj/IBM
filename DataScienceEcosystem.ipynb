{
 "cells": [
  {
   "cell_type": "markdown",
   "id": "7965976b-05ac-4069-b1c4-61f0356b6494",
   "metadata": {},
   "source": [
    "# Data Science Tools and Ecosystem"
   ]
  },
  {
   "cell_type": "markdown",
   "id": "3266e8c0-e6dd-4854-9722-21874d5d577b",
   "metadata": {},
   "source": [
    "In this notebook, Data Science Tools and Ecosystem are summarized."
   ]
  },
  {
   "cell_type": "markdown",
   "id": "40d4aa79-d486-4396-9d2e-5b66368abc2a",
   "metadata": {},
   "source": [
    "# Objectives:\n",
    "- Get to know the categories of Data Science\n",
    "- What are the open source tools for Data Science\n",
    "- Get familiar with Jupyter Notebooks\n",
    "- Introduction to Python, R and SQL\n",
    "- Understand Libraries, APIs, Data sets and Models"
   ]
  },
  {
   "cell_type": "markdown",
   "id": "a63fcfa2-5d5b-44d8-82a0-29b711e17f32",
   "metadata": {},
   "source": [
    "Some of the popular languages that Data Scientists use are:\n",
    "1. Python\n",
    "2. R\n",
    "3. SQL"
   ]
  },
  {
   "cell_type": "markdown",
   "id": "14c51abf-bd87-43d4-9a5d-9481e7f3736f",
   "metadata": {},
   "source": [
    "Some of the commonly used libraries used by Data Scientists include:\n",
    "1. Pandas\n",
    "2. NumPy\n",
    "3. ggplot"
   ]
  },
  {
   "cell_type": "markdown",
   "id": "a50763ab-9807-4f45-a556-c579a3f4bc71",
   "metadata": {},
   "source": [
    "| Data Science Tools |\n",
    "| -------------------|\n",
    "| Anaconda |\n",
    "| RStudio |\n",
    "| Jupyter Notebooks |"
   ]
  },
  {
   "cell_type": "markdown",
   "id": "43f2c03d-0629-4087-9883-62c6467fb5cc",
   "metadata": {},
   "source": [
    "### Below are a few examples of evaluating arithmetic expressions in Python\n"
   ]
  },
  {
   "cell_type": "code",
   "execution_count": 10,
   "id": "27fd9415-13b3-4979-9d87-158f9ccd35df",
   "metadata": {},
   "outputs": [
    {
     "data": {
      "text/plain": [
       "17"
      ]
     },
     "execution_count": 10,
     "metadata": {},
     "output_type": "execute_result"
    }
   ],
   "source": [
    "#This a simple arithmetic expression to mutiply then add integers\n",
    "(3*4)+5"
   ]
  },
  {
   "cell_type": "code",
   "execution_count": 12,
   "id": "ba847021-9ccd-4fec-b5ca-8d2c27b2c76d",
   "metadata": {},
   "outputs": [
    {
     "data": {
      "text/plain": [
       "3.3333333333333335"
      ]
     },
     "execution_count": 12,
     "metadata": {},
     "output_type": "execute_result"
    }
   ],
   "source": [
    "#This will convert 200 minutes to hours by diving by 60\n",
    "200/60"
   ]
  },
  {
   "cell_type": "markdown",
   "id": "17c3c3bd-4287-4fc0-bd25-aafb28faf8fc",
   "metadata": {},
   "source": [
    "## Author\n",
    "Inês de Jesus"
   ]
  },
  {
   "cell_type": "code",
   "execution_count": null,
   "id": "46bc58ec-a233-465e-b097-be958e57823c",
   "metadata": {},
   "outputs": [],
   "source": []
  }
 ],
 "metadata": {
  "kernelspec": {
   "display_name": "Python [conda env:IBM]",
   "language": "python",
   "name": "conda-env-IBM-py"
  },
  "language_info": {
   "codemirror_mode": {
    "name": "ipython",
    "version": 3
   },
   "file_extension": ".py",
   "mimetype": "text/x-python",
   "name": "python",
   "nbconvert_exporter": "python",
   "pygments_lexer": "ipython3",
   "version": "3.12.9"
  }
 },
 "nbformat": 4,
 "nbformat_minor": 5
}
